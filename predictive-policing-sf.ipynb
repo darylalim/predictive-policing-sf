{
 "cells": [
  {
   "cell_type": "markdown",
   "id": "ffa5e6a4-5ac1-4f17-9818-cce11a9efac5",
   "metadata": {},
   "source": [
    "# Predictive Policing in San Francisco (SF)"
   ]
  },
  {
   "cell_type": "markdown",
   "id": "47ff9e29-442c-480b-9432-907ea1423346",
   "metadata": {},
   "source": [
    "## Table of Contents\n",
    "\n",
    "- [Setup](#setup)\n",
    "- [Process 2016 Data](#process-2016-data)\n",
    "- [Process 2017 Data](#process-2017-data)\n",
    "- [Test Models](#test-models)\n",
    "  - [Linear Regression](#model-linear-regression)\n",
    "  - [Random Forest](#model-random-forest)\n",
    "  - [K-Nearest Neighbors](#model-knn)\n",
    "  - [Support Vector Machine](#model-svm)\n",
    "  - [XGBoost](#model-xgboost)\n",
    "  - [Multi-layer Perceptron Regressor](#model-mlp)\n",
    "- [Choropleth Map](#choropleth-map) "
   ]
  },
  {
   "cell_type": "markdown",
   "id": "f45fe624-0010-4e50-ab90-04373f5f29a6",
   "metadata": {},
   "source": [
    "## Setup <a id='setup'></a>"
   ]
  },
  {
   "cell_type": "code",
   "execution_count": 1,
   "id": "11c3817d-8a5d-4414-b678-4c96f4a76d2f",
   "metadata": {},
   "outputs": [
    {
     "data": {
      "text/html": [
       "<style>.container { width:85% !important; }</style>"
      ],
      "text/plain": [
       "<IPython.core.display.HTML object>"
      ]
     },
     "metadata": {},
     "output_type": "display_data"
    }
   ],
   "source": [
    "# Import libraries and modules\n",
    "import numpy as np\n",
    "import pandas as pd\n",
    "import statsmodels.api as sm\n",
    "import matplotlib.pyplot as plt\n",
    "%matplotlib inline\n",
    "import seaborn as sns\n",
    "import geopandas as gpd\n",
    "from shapely.geometry import Point\n",
    "\n",
    "# Machine learning\n",
    "from sklearn.linear_model import LinearRegression\n",
    "from sklearn.ensemble import RandomForestRegressor\n",
    "from sklearn.neighbors import KNeighborsRegressor\n",
    "from sklearn.neural_network import MLPRegressor\n",
    "from sklearn.svm import SVR\n",
    "from xgboost import XGBRegressor\n",
    "\n",
    "# Set options\n",
    "from IPython.display import display, HTML\n",
    "display(HTML('<style>.container { width:85% !important; }</style>'))\n",
    "\n",
    "pd.options.mode.chained_assignment = None"
   ]
  },
  {
   "cell_type": "code",
   "execution_count": 2,
   "id": "559bea35-a522-470d-bf73-982436d6b95d",
   "metadata": {},
   "outputs": [],
   "source": [
    "# Read data\n",
    "crime17 = pd.read_csv('data/raw/sf_incidents17.csv')\n",
    "crime16 = pd.read_csv('data/raw/sf_incidents16.csv')"
   ]
  },
  {
   "cell_type": "code",
   "execution_count": 3,
   "id": "b8531aa2-9abb-4e83-851d-1ab2b21702c4",
   "metadata": {},
   "outputs": [
    {
     "data": {
      "text/html": [
       "<div>\n",
       "<style scoped>\n",
       "    .dataframe tbody tr th:only-of-type {\n",
       "        vertical-align: middle;\n",
       "    }\n",
       "\n",
       "    .dataframe tbody tr th {\n",
       "        vertical-align: top;\n",
       "    }\n",
       "\n",
       "    .dataframe thead th {\n",
       "        text-align: right;\n",
       "    }\n",
       "</style>\n",
       "<table border=\"1\" class=\"dataframe\">\n",
       "  <thead>\n",
       "    <tr style=\"text-align: right;\">\n",
       "      <th></th>\n",
       "      <th>IncidntNum</th>\n",
       "      <th>Category</th>\n",
       "      <th>Descript</th>\n",
       "      <th>DayOfWeek</th>\n",
       "      <th>Date</th>\n",
       "      <th>Time</th>\n",
       "      <th>PdDistrict</th>\n",
       "      <th>Resolution</th>\n",
       "      <th>Address</th>\n",
       "      <th>X</th>\n",
       "      <th>Y</th>\n",
       "      <th>Location</th>\n",
       "      <th>PdId</th>\n",
       "    </tr>\n",
       "  </thead>\n",
       "  <tbody>\n",
       "    <tr>\n",
       "      <th>0</th>\n",
       "      <td>150333505</td>\n",
       "      <td>WARRANTS</td>\n",
       "      <td>WARRANT ARREST</td>\n",
       "      <td>Wednesday</td>\n",
       "      <td>04/19/2017</td>\n",
       "      <td>21:29</td>\n",
       "      <td>MISSION</td>\n",
       "      <td>ARREST, BOOKED</td>\n",
       "      <td>24TH ST / BRYANT ST</td>\n",
       "      <td>-122.409132</td>\n",
       "      <td>37.752797</td>\n",
       "      <td>(37.752796998558445, -122.40913193948903)</td>\n",
       "      <td>15033350563010</td>\n",
       "    </tr>\n",
       "    <tr>\n",
       "      <th>1</th>\n",
       "      <td>141091334</td>\n",
       "      <td>BURGLARY</td>\n",
       "      <td>BURGLARY OF STORE, FORCIBLE ENTRY</td>\n",
       "      <td>Wednesday</td>\n",
       "      <td>03/08/2017</td>\n",
       "      <td>14:28</td>\n",
       "      <td>SOUTHERN</td>\n",
       "      <td>NONE</td>\n",
       "      <td>800 Block of BRYANT ST</td>\n",
       "      <td>-122.403405</td>\n",
       "      <td>37.775421</td>\n",
       "      <td>(37.775420706711, -122.40340479147905)</td>\n",
       "      <td>14109133405051</td>\n",
       "    </tr>\n",
       "    <tr>\n",
       "      <th>2</th>\n",
       "      <td>160913272</td>\n",
       "      <td>SUSPICIOUS OCC</td>\n",
       "      <td>SUSPICIOUS OCCURRENCE</td>\n",
       "      <td>Tuesday</td>\n",
       "      <td>09/12/2017</td>\n",
       "      <td>09:00</td>\n",
       "      <td>MISSION</td>\n",
       "      <td>UNFOUNDED</td>\n",
       "      <td>2700 Block of 16TH ST</td>\n",
       "      <td>-122.414223</td>\n",
       "      <td>37.765325</td>\n",
       "      <td>(37.76532508532617, -122.414222704763)</td>\n",
       "      <td>16091327264070</td>\n",
       "    </tr>\n",
       "    <tr>\n",
       "      <th>3</th>\n",
       "      <td>150045716</td>\n",
       "      <td>WEAPON LAWS</td>\n",
       "      <td>POSS OF FIREARM BY CONVICTED FELON/ADDICT/ALIEN</td>\n",
       "      <td>Thursday</td>\n",
       "      <td>06/01/2017</td>\n",
       "      <td>08:51</td>\n",
       "      <td>INGLESIDE</td>\n",
       "      <td>ARREST, BOOKED</td>\n",
       "      <td>100 Block of BALTIMORE WY</td>\n",
       "      <td>-122.431842</td>\n",
       "      <td>37.709107</td>\n",
       "      <td>(37.70910662750824, -122.43184152371002)</td>\n",
       "      <td>15004571612080</td>\n",
       "    </tr>\n",
       "    <tr>\n",
       "      <th>4</th>\n",
       "      <td>150333505</td>\n",
       "      <td>WEAPON LAWS</td>\n",
       "      <td>POSS OF FIREARM BY CONVICTED FELON/ADDICT/ALIEN</td>\n",
       "      <td>Wednesday</td>\n",
       "      <td>04/19/2017</td>\n",
       "      <td>21:29</td>\n",
       "      <td>MISSION</td>\n",
       "      <td>ARREST, BOOKED</td>\n",
       "      <td>24TH ST / BRYANT ST</td>\n",
       "      <td>-122.409132</td>\n",
       "      <td>37.752797</td>\n",
       "      <td>(37.752796998558445, -122.40913193948903)</td>\n",
       "      <td>15033350512080</td>\n",
       "    </tr>\n",
       "  </tbody>\n",
       "</table>\n",
       "</div>"
      ],
      "text/plain": [
       "   IncidntNum        Category  \\\n",
       "0   150333505        WARRANTS   \n",
       "1   141091334        BURGLARY   \n",
       "2   160913272  SUSPICIOUS OCC   \n",
       "3   150045716     WEAPON LAWS   \n",
       "4   150333505     WEAPON LAWS   \n",
       "\n",
       "                                          Descript  DayOfWeek        Date  \\\n",
       "0                                   WARRANT ARREST  Wednesday  04/19/2017   \n",
       "1                BURGLARY OF STORE, FORCIBLE ENTRY  Wednesday  03/08/2017   \n",
       "2                            SUSPICIOUS OCCURRENCE    Tuesday  09/12/2017   \n",
       "3  POSS OF FIREARM BY CONVICTED FELON/ADDICT/ALIEN   Thursday  06/01/2017   \n",
       "4  POSS OF FIREARM BY CONVICTED FELON/ADDICT/ALIEN  Wednesday  04/19/2017   \n",
       "\n",
       "    Time PdDistrict      Resolution                    Address           X  \\\n",
       "0  21:29    MISSION  ARREST, BOOKED        24TH ST / BRYANT ST -122.409132   \n",
       "1  14:28   SOUTHERN            NONE     800 Block of BRYANT ST -122.403405   \n",
       "2  09:00    MISSION       UNFOUNDED      2700 Block of 16TH ST -122.414223   \n",
       "3  08:51  INGLESIDE  ARREST, BOOKED  100 Block of BALTIMORE WY -122.431842   \n",
       "4  21:29    MISSION  ARREST, BOOKED        24TH ST / BRYANT ST -122.409132   \n",
       "\n",
       "           Y                                   Location            PdId  \n",
       "0  37.752797  (37.752796998558445, -122.40913193948903)  15033350563010  \n",
       "1  37.775421     (37.775420706711, -122.40340479147905)  14109133405051  \n",
       "2  37.765325     (37.76532508532617, -122.414222704763)  16091327264070  \n",
       "3  37.709107   (37.70910662750824, -122.43184152371002)  15004571612080  \n",
       "4  37.752797  (37.752796998558445, -122.40913193948903)  15033350512080  "
      ]
     },
     "execution_count": 3,
     "metadata": {},
     "output_type": "execute_result"
    }
   ],
   "source": [
    "crime17.head()"
   ]
  },
  {
   "cell_type": "code",
   "execution_count": 4,
   "id": "0decfc21-a008-40d8-af74-a8d0f619f066",
   "metadata": {},
   "outputs": [
    {
     "data": {
      "text/html": [
       "<div>\n",
       "<style scoped>\n",
       "    .dataframe tbody tr th:only-of-type {\n",
       "        vertical-align: middle;\n",
       "    }\n",
       "\n",
       "    .dataframe tbody tr th {\n",
       "        vertical-align: top;\n",
       "    }\n",
       "\n",
       "    .dataframe thead th {\n",
       "        text-align: right;\n",
       "    }\n",
       "</style>\n",
       "<table border=\"1\" class=\"dataframe\">\n",
       "  <thead>\n",
       "    <tr style=\"text-align: right;\">\n",
       "      <th></th>\n",
       "      <th>IncidntNum</th>\n",
       "      <th>Category</th>\n",
       "      <th>Descript</th>\n",
       "      <th>DayOfWeek</th>\n",
       "      <th>Date</th>\n",
       "      <th>Time</th>\n",
       "      <th>PdDistrict</th>\n",
       "      <th>Resolution</th>\n",
       "      <th>Address</th>\n",
       "      <th>X</th>\n",
       "      <th>Y</th>\n",
       "      <th>Location</th>\n",
       "      <th>PdId</th>\n",
       "    </tr>\n",
       "  </thead>\n",
       "  <tbody>\n",
       "    <tr>\n",
       "      <th>0</th>\n",
       "      <td>120058272</td>\n",
       "      <td>WEAPON LAWS</td>\n",
       "      <td>POSS OF PROHIBITED WEAPON</td>\n",
       "      <td>Friday</td>\n",
       "      <td>01/29/2016 12:00:00 AM</td>\n",
       "      <td>11:00</td>\n",
       "      <td>SOUTHERN</td>\n",
       "      <td>ARREST, BOOKED</td>\n",
       "      <td>800 Block of BRYANT ST</td>\n",
       "      <td>-122.403405</td>\n",
       "      <td>37.775421</td>\n",
       "      <td>(37.775420706711, -122.403404791479)</td>\n",
       "      <td>12005827212120</td>\n",
       "    </tr>\n",
       "    <tr>\n",
       "      <th>1</th>\n",
       "      <td>120058272</td>\n",
       "      <td>WEAPON LAWS</td>\n",
       "      <td>FIREARM, LOADED, IN VEHICLE, POSSESSION OR USE</td>\n",
       "      <td>Friday</td>\n",
       "      <td>01/29/2016 12:00:00 AM</td>\n",
       "      <td>11:00</td>\n",
       "      <td>SOUTHERN</td>\n",
       "      <td>ARREST, BOOKED</td>\n",
       "      <td>800 Block of BRYANT ST</td>\n",
       "      <td>-122.403405</td>\n",
       "      <td>37.775421</td>\n",
       "      <td>(37.775420706711, -122.403404791479)</td>\n",
       "      <td>12005827212168</td>\n",
       "    </tr>\n",
       "    <tr>\n",
       "      <th>2</th>\n",
       "      <td>160147073</td>\n",
       "      <td>VEHICLE THEFT</td>\n",
       "      <td>STOLEN MOTORCYCLE</td>\n",
       "      <td>Thursday</td>\n",
       "      <td>02/18/2016 12:00:00 AM</td>\n",
       "      <td>22:00</td>\n",
       "      <td>NORTHERN</td>\n",
       "      <td>UNFOUNDED</td>\n",
       "      <td>BROADWAY ST / GOUGH ST</td>\n",
       "      <td>-122.426703</td>\n",
       "      <td>37.795316</td>\n",
       "      <td>(37.7953163162613, -122.426702502506)</td>\n",
       "      <td>16014707307023</td>\n",
       "    </tr>\n",
       "    <tr>\n",
       "      <th>3</th>\n",
       "      <td>160802233</td>\n",
       "      <td>NON-CRIMINAL</td>\n",
       "      <td>LOST PROPERTY</td>\n",
       "      <td>Monday</td>\n",
       "      <td>10/03/2016 12:00:00 AM</td>\n",
       "      <td>01:18</td>\n",
       "      <td>SOUTHERN</td>\n",
       "      <td>NONE</td>\n",
       "      <td>800 Block of MARKET ST</td>\n",
       "      <td>-122.407902</td>\n",
       "      <td>37.784253</td>\n",
       "      <td>(37.784253176872, -122.407902468508)</td>\n",
       "      <td>16080223371000</td>\n",
       "    </tr>\n",
       "    <tr>\n",
       "      <th>4</th>\n",
       "      <td>141059263</td>\n",
       "      <td>WARRANTS</td>\n",
       "      <td>WARRANT ARREST</td>\n",
       "      <td>Monday</td>\n",
       "      <td>04/25/2016 12:00:00 AM</td>\n",
       "      <td>14:59</td>\n",
       "      <td>BAYVIEW</td>\n",
       "      <td>ARREST, BOOKED</td>\n",
       "      <td>KEITH ST / SHAFTER AV</td>\n",
       "      <td>-122.388856</td>\n",
       "      <td>37.729981</td>\n",
       "      <td>(37.7299809672996, -122.388856204292)</td>\n",
       "      <td>14105926363010</td>\n",
       "    </tr>\n",
       "  </tbody>\n",
       "</table>\n",
       "</div>"
      ],
      "text/plain": [
       "   IncidntNum       Category                                        Descript  \\\n",
       "0   120058272    WEAPON LAWS                       POSS OF PROHIBITED WEAPON   \n",
       "1   120058272    WEAPON LAWS  FIREARM, LOADED, IN VEHICLE, POSSESSION OR USE   \n",
       "2   160147073  VEHICLE THEFT                               STOLEN MOTORCYCLE   \n",
       "3   160802233   NON-CRIMINAL                                   LOST PROPERTY   \n",
       "4   141059263       WARRANTS                                  WARRANT ARREST   \n",
       "\n",
       "  DayOfWeek                    Date   Time PdDistrict      Resolution  \\\n",
       "0    Friday  01/29/2016 12:00:00 AM  11:00   SOUTHERN  ARREST, BOOKED   \n",
       "1    Friday  01/29/2016 12:00:00 AM  11:00   SOUTHERN  ARREST, BOOKED   \n",
       "2  Thursday  02/18/2016 12:00:00 AM  22:00   NORTHERN       UNFOUNDED   \n",
       "3    Monday  10/03/2016 12:00:00 AM  01:18   SOUTHERN            NONE   \n",
       "4    Monday  04/25/2016 12:00:00 AM  14:59    BAYVIEW  ARREST, BOOKED   \n",
       "\n",
       "                  Address           X          Y  \\\n",
       "0  800 Block of BRYANT ST -122.403405  37.775421   \n",
       "1  800 Block of BRYANT ST -122.403405  37.775421   \n",
       "2  BROADWAY ST / GOUGH ST -122.426703  37.795316   \n",
       "3  800 Block of MARKET ST -122.407902  37.784253   \n",
       "4   KEITH ST / SHAFTER AV -122.388856  37.729981   \n",
       "\n",
       "                                Location            PdId  \n",
       "0   (37.775420706711, -122.403404791479)  12005827212120  \n",
       "1   (37.775420706711, -122.403404791479)  12005827212168  \n",
       "2  (37.7953163162613, -122.426702502506)  16014707307023  \n",
       "3   (37.784253176872, -122.407902468508)  16080223371000  \n",
       "4  (37.7299809672996, -122.388856204292)  14105926363010  "
      ]
     },
     "execution_count": 4,
     "metadata": {},
     "output_type": "execute_result"
    }
   ],
   "source": [
    "crime16.head()"
   ]
  },
  {
   "cell_type": "markdown",
   "id": "aba6091f-1570-4952-b945-b8ac550cf48e",
   "metadata": {},
   "source": [
    "## Process 2016 Data <a id='process-2016-data'></a>"
   ]
  },
  {
   "cell_type": "markdown",
   "id": "167f46e0-c6f9-498d-b8ee-da2d91d7b76b",
   "metadata": {},
   "source": [
    "## Find the zip codes for each incident given the latitude and longitude"
   ]
  },
  {
   "cell_type": "code",
   "execution_count": 5,
   "id": "c8fda3be-985c-4dbf-9d11-6a7b9fd07bc3",
   "metadata": {},
   "outputs": [],
   "source": [
    "# Create `geometry` column\n",
    "# Each row is `Point` geometry using `X` and `Y`\n",
    "crime16['geometry'] = gpd.GeoSeries(Point(xy) for xy in zip(crime16['X'], crime16['Y']))\n",
    "\n",
    "# Create GeoDataFrame with coordinate reference system (CRS) as EPSG 4326\n",
    "geo_police_data = gpd.GeoDataFrame(crime16, geometry='geometry', crs='epsg:4326')\n",
    "\n",
    "# Read GeoJSON file\n",
    "sf = gpd.read_file('data/raw/zipcodes_geo.json', geometry='geometry', crs='epsg:4326')\n",
    "\n",
    "# Spatial join DataFrames\n",
    "crime16 = gpd.tools.sjoin(left_df=geo_police_data, right_df=sf, how='left')"
   ]
  },
  {
   "cell_type": "markdown",
   "id": "670445ad-79f6-4194-aa20-b174bb9d58f1",
   "metadata": {},
   "source": [
    "## Find which zip codes, day of week, and hour have the most crimes"
   ]
  },
  {
   "cell_type": "code",
   "execution_count": 6,
   "id": "bd588278-a5d4-4b11-a927-9b274ef23bdf",
   "metadata": {},
   "outputs": [
    {
     "name": "stderr",
     "output_type": "stream",
     "text": [
      "/var/folders/5m/08f52wbx5cl39bknqwtc21pm0000gn/T/ipykernel_3053/195546458.py:5: UserWarning: Could not infer format, so each element will be parsed individually, falling back to `dateutil`. To ensure parsing is consistent and as-expected, please specify a format.\n",
      "  day_time_zip_16['Date'] = pd.to_datetime(day_time_zip_16['Date'])\n",
      "/var/folders/5m/08f52wbx5cl39bknqwtc21pm0000gn/T/ipykernel_3053/195546458.py:8: UserWarning: Could not infer format, so each element will be parsed individually, falling back to `dateutil`. To ensure parsing is consistent and as-expected, please specify a format.\n",
      "  day_time_zip_16['Hour'] = pd.to_datetime(day_time_zip_16['Time']).dt.hour\n"
     ]
    }
   ],
   "source": [
    "# Select columns\n",
    "day_time_zip_16 = crime16[['Date', 'DayOfWeek', 'Time', 'zip']]\n",
    "\n",
    "# Convert to DateTime\n",
    "day_time_zip_16['Date'] = pd.to_datetime(day_time_zip_16['Date'])\n",
    "\n",
    "# Extract hour and create new column\n",
    "day_time_zip_16['Hour'] = pd.to_datetime(day_time_zip_16['Time']).dt.hour"
   ]
  },
  {
   "cell_type": "code",
   "execution_count": 7,
   "id": "f24858f0-e4c9-4b27-a96b-1949bdda840c",
   "metadata": {},
   "outputs": [
    {
     "data": {
      "text/html": [
       "<div>\n",
       "<style scoped>\n",
       "    .dataframe tbody tr th:only-of-type {\n",
       "        vertical-align: middle;\n",
       "    }\n",
       "\n",
       "    .dataframe tbody tr th {\n",
       "        vertical-align: top;\n",
       "    }\n",
       "\n",
       "    .dataframe thead th {\n",
       "        text-align: right;\n",
       "    }\n",
       "</style>\n",
       "<table border=\"1\" class=\"dataframe\">\n",
       "  <thead>\n",
       "    <tr style=\"text-align: right;\">\n",
       "      <th></th>\n",
       "      <th>Date</th>\n",
       "      <th>DayOfWeek</th>\n",
       "      <th>Time</th>\n",
       "      <th>zip</th>\n",
       "      <th>Hour</th>\n",
       "    </tr>\n",
       "  </thead>\n",
       "  <tbody>\n",
       "    <tr>\n",
       "      <th>0</th>\n",
       "      <td>2016-01-29</td>\n",
       "      <td>Friday</td>\n",
       "      <td>11:00</td>\n",
       "      <td>94103</td>\n",
       "      <td>11</td>\n",
       "    </tr>\n",
       "    <tr>\n",
       "      <th>1</th>\n",
       "      <td>2016-01-29</td>\n",
       "      <td>Friday</td>\n",
       "      <td>11:00</td>\n",
       "      <td>94103</td>\n",
       "      <td>11</td>\n",
       "    </tr>\n",
       "    <tr>\n",
       "      <th>2</th>\n",
       "      <td>2016-02-18</td>\n",
       "      <td>Thursday</td>\n",
       "      <td>22:00</td>\n",
       "      <td>94109</td>\n",
       "      <td>22</td>\n",
       "    </tr>\n",
       "    <tr>\n",
       "      <th>3</th>\n",
       "      <td>2016-10-03</td>\n",
       "      <td>Monday</td>\n",
       "      <td>01:18</td>\n",
       "      <td>94102</td>\n",
       "      <td>1</td>\n",
       "    </tr>\n",
       "    <tr>\n",
       "      <th>4</th>\n",
       "      <td>2016-04-25</td>\n",
       "      <td>Monday</td>\n",
       "      <td>14:59</td>\n",
       "      <td>94124</td>\n",
       "      <td>14</td>\n",
       "    </tr>\n",
       "  </tbody>\n",
       "</table>\n",
       "</div>"
      ],
      "text/plain": [
       "        Date DayOfWeek   Time    zip  Hour\n",
       "0 2016-01-29    Friday  11:00  94103    11\n",
       "1 2016-01-29    Friday  11:00  94103    11\n",
       "2 2016-02-18  Thursday  22:00  94109    22\n",
       "3 2016-10-03    Monday  01:18  94102     1\n",
       "4 2016-04-25    Monday  14:59  94124    14"
      ]
     },
     "execution_count": 7,
     "metadata": {},
     "output_type": "execute_result"
    }
   ],
   "source": [
    "day_time_zip_16.head()"
   ]
  },
  {
   "cell_type": "markdown",
   "id": "e3304619-2b59-433d-9a55-461b70615bc8",
   "metadata": {},
   "source": [
    "## Remove data from November and December"
   ]
  },
  {
   "cell_type": "markdown",
   "id": "da3938a7-de85-4944-906d-551f13604ff1",
   "metadata": {},
   "source": [
    "There is no data for November and December 2017 so these months will be removed from the final 2016 DataFrame."
   ]
  },
  {
   "cell_type": "code",
   "execution_count": 8,
   "id": "ddd9d335-b4c1-4bce-9d2a-9fb9f9398f1c",
   "metadata": {},
   "outputs": [],
   "source": [
    "day_time_zip_16_final = day_time_zip_16[day_time_zip_16['Date'].dt.month < 11]"
   ]
  },
  {
   "cell_type": "markdown",
   "id": "1de550fc-c498-4bf1-a072-492669511b4e",
   "metadata": {},
   "source": [
    "### Combine all crimes into hours, days, and zip codes"
   ]
  },
  {
   "cell_type": "code",
   "execution_count": 9,
   "id": "ad9e608a-ea0d-4905-b703-c7761c7440eb",
   "metadata": {},
   "outputs": [
    {
     "data": {
      "text/html": [
       "<div>\n",
       "<style scoped>\n",
       "    .dataframe tbody tr th:only-of-type {\n",
       "        vertical-align: middle;\n",
       "    }\n",
       "\n",
       "    .dataframe tbody tr th {\n",
       "        vertical-align: top;\n",
       "    }\n",
       "\n",
       "    .dataframe thead th {\n",
       "        text-align: right;\n",
       "    }\n",
       "</style>\n",
       "<table border=\"1\" class=\"dataframe\">\n",
       "  <thead>\n",
       "    <tr style=\"text-align: right;\">\n",
       "      <th></th>\n",
       "      <th>DayOfWeek</th>\n",
       "      <th>zip</th>\n",
       "      <th>Hour</th>\n",
       "      <th>Crimes</th>\n",
       "    </tr>\n",
       "  </thead>\n",
       "  <tbody>\n",
       "    <tr>\n",
       "      <th>2471</th>\n",
       "      <td>Thursday</td>\n",
       "      <td>94103</td>\n",
       "      <td>18</td>\n",
       "      <td>223</td>\n",
       "    </tr>\n",
       "    <tr>\n",
       "      <th>41</th>\n",
       "      <td>Friday</td>\n",
       "      <td>94103</td>\n",
       "      <td>17</td>\n",
       "      <td>217</td>\n",
       "    </tr>\n",
       "    <tr>\n",
       "      <th>42</th>\n",
       "      <td>Friday</td>\n",
       "      <td>94103</td>\n",
       "      <td>18</td>\n",
       "      <td>213</td>\n",
       "    </tr>\n",
       "    <tr>\n",
       "      <th>649</th>\n",
       "      <td>Monday</td>\n",
       "      <td>94103</td>\n",
       "      <td>18</td>\n",
       "      <td>213</td>\n",
       "    </tr>\n",
       "    <tr>\n",
       "      <th>3680</th>\n",
       "      <td>Wednesday</td>\n",
       "      <td>94103</td>\n",
       "      <td>18</td>\n",
       "      <td>211</td>\n",
       "    </tr>\n",
       "  </tbody>\n",
       "</table>\n",
       "</div>"
      ],
      "text/plain": [
       "      DayOfWeek    zip  Hour  Crimes\n",
       "2471   Thursday  94103    18     223\n",
       "41       Friday  94103    17     217\n",
       "42       Friday  94103    18     213\n",
       "649      Monday  94103    18     213\n",
       "3680  Wednesday  94103    18     211"
      ]
     },
     "execution_count": 9,
     "metadata": {},
     "output_type": "execute_result"
    }
   ],
   "source": [
    "# Subset columns\n",
    "day_time_zip_16_final = day_time_zip_16_final[['DayOfWeek', 'zip', 'Hour']]\n",
    "\n",
    "# Create `Crimes` column with values set to 1\n",
    "day_time_zip_16_final['Crimes'] = 1\n",
    "\n",
    "# Group and sum by categories\n",
    "hour_totals_16 = day_time_zip_16_final.groupby(by=['DayOfWeek', 'zip', 'Hour'], as_index=False).sum()\n",
    "\n",
    "# Sort and display top rows\n",
    "hour_totals_16.sort_values(by='Crimes', ascending=False).head()"
   ]
  },
  {
   "cell_type": "markdown",
   "id": "cf0faa1c-49c3-451b-b4a2-c58fc1029726",
   "metadata": {},
   "source": [
    "### Create dummy variables"
   ]
  },
  {
   "cell_type": "code",
   "execution_count": 10,
   "id": "ef6fde7c-0fa4-40de-a2a5-430d8917fa94",
   "metadata": {},
   "outputs": [],
   "source": [
    "# Subset columns\n",
    "hour_totals_16 = hour_totals_16[['Crimes', 'Hour', 'DayOfWeek', 'zip']]\n",
    "\n",
    "# Convert categorical variables to dummy/indicator variables\n",
    "totals_dummies_16 = pd.get_dummies(data=hour_totals_16, dtype='int')\n",
    "\n",
    "# Separate features (X) and target (y)\n",
    "X_16 = totals_dummies_16.iloc[:, 1:]\n",
    "y_16 = totals_dummies_16.iloc[:, 0]"
   ]
  },
  {
   "cell_type": "markdown",
   "id": "15ec57d1-2765-497e-a0f8-d5180d9493cd",
   "metadata": {},
   "source": [
    "## Linear regression with 2016 data"
   ]
  },
  {
   "cell_type": "code",
   "execution_count": 11,
   "id": "70f1a0ea-7c6d-4a3a-8595-af990b63768b",
   "metadata": {},
   "outputs": [
    {
     "data": {
      "text/html": [
       "<table class=\"simpletable\">\n",
       "<caption>OLS Regression Results</caption>\n",
       "<tr>\n",
       "  <th>Dep. Variable:</th>         <td>Crimes</td>      <th>  R-squared:         </th> <td>   0.751</td> \n",
       "</tr>\n",
       "<tr>\n",
       "  <th>Model:</th>                   <td>OLS</td>       <th>  Adj. R-squared:    </th> <td>   0.749</td> \n",
       "</tr>\n",
       "<tr>\n",
       "  <th>Method:</th>             <td>Least Squares</td>  <th>  F-statistic:       </th> <td>   396.1</td> \n",
       "</tr>\n",
       "<tr>\n",
       "  <th>Date:</th>             <td>Sat, 02 Dec 2023</td> <th>  Prob (F-statistic):</th>  <td>  0.00</td>  \n",
       "</tr>\n",
       "<tr>\n",
       "  <th>Time:</th>                 <td>17:06:23</td>     <th>  Log-Likelihood:    </th> <td> -17625.</td> \n",
       "</tr>\n",
       "<tr>\n",
       "  <th>No. Observations:</th>      <td>  4240</td>      <th>  AIC:               </th> <td>3.532e+04</td>\n",
       "</tr>\n",
       "<tr>\n",
       "  <th>Df Residuals:</th>          <td>  4207</td>      <th>  BIC:               </th> <td>3.552e+04</td>\n",
       "</tr>\n",
       "<tr>\n",
       "  <th>Df Model:</th>              <td>    32</td>      <th>                     </th>     <td> </td>    \n",
       "</tr>\n",
       "<tr>\n",
       "  <th>Covariance Type:</th>      <td>nonrobust</td>    <th>                     </th>     <td> </td>    \n",
       "</tr>\n",
       "</table>\n",
       "<table class=\"simpletable\">\n",
       "<tr>\n",
       "           <td></td>              <th>coef</th>     <th>std err</th>      <th>t</th>      <th>P>|t|</th>  <th>[0.025</th>    <th>0.975]</th>  \n",
       "</tr>\n",
       "<tr>\n",
       "  <th>Hour</th>                <td>    1.1630</td> <td>    0.035</td> <td>   33.666</td> <td> 0.000</td> <td>    1.095</td> <td>    1.231</td>\n",
       "</tr>\n",
       "<tr>\n",
       "  <th>DayOfWeek_Friday</th>    <td>   14.4110</td> <td>    0.689</td> <td>   20.909</td> <td> 0.000</td> <td>   13.060</td> <td>   15.762</td>\n",
       "</tr>\n",
       "<tr>\n",
       "  <th>DayOfWeek_Monday</th>    <td>   11.6335</td> <td>    0.690</td> <td>   16.853</td> <td> 0.000</td> <td>   10.280</td> <td>   12.987</td>\n",
       "</tr>\n",
       "<tr>\n",
       "  <th>DayOfWeek_Saturday</th>  <td>   12.8117</td> <td>    0.689</td> <td>   18.588</td> <td> 0.000</td> <td>   11.460</td> <td>   14.163</td>\n",
       "</tr>\n",
       "<tr>\n",
       "  <th>DayOfWeek_Sunday</th>    <td>   10.9684</td> <td>    0.688</td> <td>   15.938</td> <td> 0.000</td> <td>    9.619</td> <td>   12.318</td>\n",
       "</tr>\n",
       "<tr>\n",
       "  <th>DayOfWeek_Thursday</th>  <td>   11.5339</td> <td>    0.693</td> <td>   16.653</td> <td> 0.000</td> <td>   10.176</td> <td>   12.892</td>\n",
       "</tr>\n",
       "<tr>\n",
       "  <th>DayOfWeek_Tuesday</th>   <td>   11.0264</td> <td>    0.691</td> <td>   15.958</td> <td> 0.000</td> <td>    9.672</td> <td>   12.381</td>\n",
       "</tr>\n",
       "<tr>\n",
       "  <th>DayOfWeek_Wednesday</th> <td>   11.6068</td> <td>    0.693</td> <td>   16.751</td> <td> 0.000</td> <td>   10.248</td> <td>   12.965</td>\n",
       "</tr>\n",
       "<tr>\n",
       "  <th>zip_94102</th>           <td>   51.2760</td> <td>    1.178</td> <td>   43.530</td> <td> 0.000</td> <td>   48.967</td> <td>   53.585</td>\n",
       "</tr>\n",
       "<tr>\n",
       "  <th>zip_94103</th>           <td>   93.9903</td> <td>    1.178</td> <td>   79.791</td> <td> 0.000</td> <td>   91.681</td> <td>   96.300</td>\n",
       "</tr>\n",
       "<tr>\n",
       "  <th>zip_94104</th>           <td>  -21.5962</td> <td>    1.264</td> <td>  -17.091</td> <td> 0.000</td> <td>  -24.073</td> <td>  -19.119</td>\n",
       "</tr>\n",
       "<tr>\n",
       "  <th>zip_94105</th>           <td>   -9.2373</td> <td>    1.181</td> <td>   -7.819</td> <td> 0.000</td> <td>  -11.554</td> <td>   -6.921</td>\n",
       "</tr>\n",
       "<tr>\n",
       "  <th>zip_94107</th>           <td>   11.3593</td> <td>    1.178</td> <td>    9.643</td> <td> 0.000</td> <td>    9.050</td> <td>   13.669</td>\n",
       "</tr>\n",
       "<tr>\n",
       "  <th>zip_94108</th>           <td>   -6.9740</td> <td>    1.178</td> <td>   -5.920</td> <td> 0.000</td> <td>   -9.283</td> <td>   -4.665</td>\n",
       "</tr>\n",
       "<tr>\n",
       "  <th>zip_94109</th>           <td>   28.9962</td> <td>    1.178</td> <td>   24.616</td> <td> 0.000</td> <td>   26.687</td> <td>   31.306</td>\n",
       "</tr>\n",
       "<tr>\n",
       "  <th>zip_94110</th>           <td>   41.2343</td> <td>    1.178</td> <td>   35.005</td> <td> 0.000</td> <td>   38.925</td> <td>   43.544</td>\n",
       "</tr>\n",
       "<tr>\n",
       "  <th>zip_94111</th>           <td>  -10.9452</td> <td>    1.192</td> <td>   -9.180</td> <td> 0.000</td> <td>  -13.283</td> <td>   -8.608</td>\n",
       "</tr>\n",
       "<tr>\n",
       "  <th>zip_94112</th>           <td>    7.3057</td> <td>    1.178</td> <td>    6.202</td> <td> 0.000</td> <td>    4.996</td> <td>    9.615</td>\n",
       "</tr>\n",
       "<tr>\n",
       "  <th>zip_94114</th>           <td>   -1.6407</td> <td>    1.178</td> <td>   -1.393</td> <td> 0.164</td> <td>   -3.950</td> <td>    0.669</td>\n",
       "</tr>\n",
       "<tr>\n",
       "  <th>zip_94115</th>           <td>    5.8950</td> <td>    1.178</td> <td>    5.004</td> <td> 0.000</td> <td>    3.586</td> <td>    8.204</td>\n",
       "</tr>\n",
       "<tr>\n",
       "  <th>zip_94116</th>           <td>  -12.3176</td> <td>    1.192</td> <td>  -10.332</td> <td> 0.000</td> <td>  -14.655</td> <td>   -9.980</td>\n",
       "</tr>\n",
       "<tr>\n",
       "  <th>zip_94117</th>           <td>    3.3117</td> <td>    1.178</td> <td>    2.811</td> <td> 0.005</td> <td>    1.002</td> <td>    5.621</td>\n",
       "</tr>\n",
       "<tr>\n",
       "  <th>zip_94118</th>           <td>   -5.5580</td> <td>    1.181</td> <td>   -4.704</td> <td> 0.000</td> <td>   -7.874</td> <td>   -3.242</td>\n",
       "</tr>\n",
       "<tr>\n",
       "  <th>zip_94121</th>           <td>   -8.9268</td> <td>    1.192</td> <td>   -7.487</td> <td> 0.000</td> <td>  -11.264</td> <td>   -6.589</td>\n",
       "</tr>\n",
       "<tr>\n",
       "  <th>zip_94122</th>           <td>   -1.4383</td> <td>    1.178</td> <td>   -1.221</td> <td> 0.222</td> <td>   -3.748</td> <td>    0.871</td>\n",
       "</tr>\n",
       "<tr>\n",
       "  <th>zip_94123</th>           <td>   -7.1699</td> <td>    1.181</td> <td>   -6.069</td> <td> 0.000</td> <td>   -9.486</td> <td>   -4.854</td>\n",
       "</tr>\n",
       "<tr>\n",
       "  <th>zip_94124</th>           <td>   17.2819</td> <td>    1.178</td> <td>   14.671</td> <td> 0.000</td> <td>   14.973</td> <td>   19.591</td>\n",
       "</tr>\n",
       "<tr>\n",
       "  <th>zip_94127</th>           <td>  -19.4963</td> <td>    1.223</td> <td>  -15.946</td> <td> 0.000</td> <td>  -21.893</td> <td>  -17.099</td>\n",
       "</tr>\n",
       "<tr>\n",
       "  <th>zip_94130</th>           <td>  -24.7398</td> <td>    1.433</td> <td>  -17.270</td> <td> 0.000</td> <td>  -27.548</td> <td>  -21.931</td>\n",
       "</tr>\n",
       "<tr>\n",
       "  <th>zip_94131</th>           <td>  -14.8146</td> <td>    1.196</td> <td>  -12.388</td> <td> 0.000</td> <td>  -17.159</td> <td>  -12.470</td>\n",
       "</tr>\n",
       "<tr>\n",
       "  <th>zip_94132</th>           <td>   -9.3617</td> <td>    1.181</td> <td>   -7.924</td> <td> 0.000</td> <td>  -11.678</td> <td>   -7.045</td>\n",
       "</tr>\n",
       "<tr>\n",
       "  <th>zip_94133</th>           <td>    6.7164</td> <td>    1.178</td> <td>    5.702</td> <td> 0.000</td> <td>    4.407</td> <td>    9.026</td>\n",
       "</tr>\n",
       "<tr>\n",
       "  <th>zip_94134</th>           <td>   -7.6559</td> <td>    1.181</td> <td>   -6.480</td> <td> 0.000</td> <td>   -9.972</td> <td>   -5.340</td>\n",
       "</tr>\n",
       "<tr>\n",
       "  <th>zip_94158</th>           <td>  -21.5029</td> <td>    1.242</td> <td>  -17.315</td> <td> 0.000</td> <td>  -23.938</td> <td>  -19.068</td>\n",
       "</tr>\n",
       "</table>\n",
       "<table class=\"simpletable\">\n",
       "<tr>\n",
       "  <th>Omnibus:</th>       <td>610.321</td> <th>  Durbin-Watson:     </th> <td>   0.811</td>\n",
       "</tr>\n",
       "<tr>\n",
       "  <th>Prob(Omnibus):</th> <td> 0.000</td>  <th>  Jarque-Bera (JB):  </th> <td>8467.649</td>\n",
       "</tr>\n",
       "<tr>\n",
       "  <th>Skew:</th>          <td>-0.142</td>  <th>  Prob(JB):          </th> <td>    0.00</td>\n",
       "</tr>\n",
       "<tr>\n",
       "  <th>Kurtosis:</th>      <td> 9.917</td>  <th>  Cond. No.          </th> <td>5.51e+15</td>\n",
       "</tr>\n",
       "</table><br/><br/>Notes:<br/>[1] Standard Errors assume that the covariance matrix of the errors is correctly specified.<br/>[2] The smallest eigenvalue is 2.56e-26. This might indicate that there are<br/>strong multicollinearity problems or that the design matrix is singular."
      ],
      "text/latex": [
       "\\begin{center}\n",
       "\\begin{tabular}{lclc}\n",
       "\\toprule\n",
       "\\textbf{Dep. Variable:}       &      Crimes      & \\textbf{  R-squared:         } &     0.751   \\\\\n",
       "\\textbf{Model:}               &       OLS        & \\textbf{  Adj. R-squared:    } &     0.749   \\\\\n",
       "\\textbf{Method:}              &  Least Squares   & \\textbf{  F-statistic:       } &     396.1   \\\\\n",
       "\\textbf{Date:}                & Sat, 02 Dec 2023 & \\textbf{  Prob (F-statistic):} &     0.00    \\\\\n",
       "\\textbf{Time:}                &     17:06:23     & \\textbf{  Log-Likelihood:    } &   -17625.   \\\\\n",
       "\\textbf{No. Observations:}    &        4240      & \\textbf{  AIC:               } & 3.532e+04   \\\\\n",
       "\\textbf{Df Residuals:}        &        4207      & \\textbf{  BIC:               } & 3.552e+04   \\\\\n",
       "\\textbf{Df Model:}            &          32      & \\textbf{                     } &             \\\\\n",
       "\\textbf{Covariance Type:}     &    nonrobust     & \\textbf{                     } &             \\\\\n",
       "\\bottomrule\n",
       "\\end{tabular}\n",
       "\\begin{tabular}{lcccccc}\n",
       "                              & \\textbf{coef} & \\textbf{std err} & \\textbf{t} & \\textbf{P$> |$t$|$} & \\textbf{[0.025} & \\textbf{0.975]}  \\\\\n",
       "\\midrule\n",
       "\\textbf{Hour}                 &       1.1630  &        0.035     &    33.666  &         0.000        &        1.095    &        1.231     \\\\\n",
       "\\textbf{DayOfWeek\\_Friday}    &      14.4110  &        0.689     &    20.909  &         0.000        &       13.060    &       15.762     \\\\\n",
       "\\textbf{DayOfWeek\\_Monday}    &      11.6335  &        0.690     &    16.853  &         0.000        &       10.280    &       12.987     \\\\\n",
       "\\textbf{DayOfWeek\\_Saturday}  &      12.8117  &        0.689     &    18.588  &         0.000        &       11.460    &       14.163     \\\\\n",
       "\\textbf{DayOfWeek\\_Sunday}    &      10.9684  &        0.688     &    15.938  &         0.000        &        9.619    &       12.318     \\\\\n",
       "\\textbf{DayOfWeek\\_Thursday}  &      11.5339  &        0.693     &    16.653  &         0.000        &       10.176    &       12.892     \\\\\n",
       "\\textbf{DayOfWeek\\_Tuesday}   &      11.0264  &        0.691     &    15.958  &         0.000        &        9.672    &       12.381     \\\\\n",
       "\\textbf{DayOfWeek\\_Wednesday} &      11.6068  &        0.693     &    16.751  &         0.000        &       10.248    &       12.965     \\\\\n",
       "\\textbf{zip\\_94102}           &      51.2760  &        1.178     &    43.530  &         0.000        &       48.967    &       53.585     \\\\\n",
       "\\textbf{zip\\_94103}           &      93.9903  &        1.178     &    79.791  &         0.000        &       91.681    &       96.300     \\\\\n",
       "\\textbf{zip\\_94104}           &     -21.5962  &        1.264     &   -17.091  &         0.000        &      -24.073    &      -19.119     \\\\\n",
       "\\textbf{zip\\_94105}           &      -9.2373  &        1.181     &    -7.819  &         0.000        &      -11.554    &       -6.921     \\\\\n",
       "\\textbf{zip\\_94107}           &      11.3593  &        1.178     &     9.643  &         0.000        &        9.050    &       13.669     \\\\\n",
       "\\textbf{zip\\_94108}           &      -6.9740  &        1.178     &    -5.920  &         0.000        &       -9.283    &       -4.665     \\\\\n",
       "\\textbf{zip\\_94109}           &      28.9962  &        1.178     &    24.616  &         0.000        &       26.687    &       31.306     \\\\\n",
       "\\textbf{zip\\_94110}           &      41.2343  &        1.178     &    35.005  &         0.000        &       38.925    &       43.544     \\\\\n",
       "\\textbf{zip\\_94111}           &     -10.9452  &        1.192     &    -9.180  &         0.000        &      -13.283    &       -8.608     \\\\\n",
       "\\textbf{zip\\_94112}           &       7.3057  &        1.178     &     6.202  &         0.000        &        4.996    &        9.615     \\\\\n",
       "\\textbf{zip\\_94114}           &      -1.6407  &        1.178     &    -1.393  &         0.164        &       -3.950    &        0.669     \\\\\n",
       "\\textbf{zip\\_94115}           &       5.8950  &        1.178     &     5.004  &         0.000        &        3.586    &        8.204     \\\\\n",
       "\\textbf{zip\\_94116}           &     -12.3176  &        1.192     &   -10.332  &         0.000        &      -14.655    &       -9.980     \\\\\n",
       "\\textbf{zip\\_94117}           &       3.3117  &        1.178     &     2.811  &         0.005        &        1.002    &        5.621     \\\\\n",
       "\\textbf{zip\\_94118}           &      -5.5580  &        1.181     &    -4.704  &         0.000        &       -7.874    &       -3.242     \\\\\n",
       "\\textbf{zip\\_94121}           &      -8.9268  &        1.192     &    -7.487  &         0.000        &      -11.264    &       -6.589     \\\\\n",
       "\\textbf{zip\\_94122}           &      -1.4383  &        1.178     &    -1.221  &         0.222        &       -3.748    &        0.871     \\\\\n",
       "\\textbf{zip\\_94123}           &      -7.1699  &        1.181     &    -6.069  &         0.000        &       -9.486    &       -4.854     \\\\\n",
       "\\textbf{zip\\_94124}           &      17.2819  &        1.178     &    14.671  &         0.000        &       14.973    &       19.591     \\\\\n",
       "\\textbf{zip\\_94127}           &     -19.4963  &        1.223     &   -15.946  &         0.000        &      -21.893    &      -17.099     \\\\\n",
       "\\textbf{zip\\_94130}           &     -24.7398  &        1.433     &   -17.270  &         0.000        &      -27.548    &      -21.931     \\\\\n",
       "\\textbf{zip\\_94131}           &     -14.8146  &        1.196     &   -12.388  &         0.000        &      -17.159    &      -12.470     \\\\\n",
       "\\textbf{zip\\_94132}           &      -9.3617  &        1.181     &    -7.924  &         0.000        &      -11.678    &       -7.045     \\\\\n",
       "\\textbf{zip\\_94133}           &       6.7164  &        1.178     &     5.702  &         0.000        &        4.407    &        9.026     \\\\\n",
       "\\textbf{zip\\_94134}           &      -7.6559  &        1.181     &    -6.480  &         0.000        &       -9.972    &       -5.340     \\\\\n",
       "\\textbf{zip\\_94158}           &     -21.5029  &        1.242     &   -17.315  &         0.000        &      -23.938    &      -19.068     \\\\\n",
       "\\bottomrule\n",
       "\\end{tabular}\n",
       "\\begin{tabular}{lclc}\n",
       "\\textbf{Omnibus:}       & 610.321 & \\textbf{  Durbin-Watson:     } &    0.811  \\\\\n",
       "\\textbf{Prob(Omnibus):} &   0.000 & \\textbf{  Jarque-Bera (JB):  } & 8467.649  \\\\\n",
       "\\textbf{Skew:}          &  -0.142 & \\textbf{  Prob(JB):          } &     0.00  \\\\\n",
       "\\textbf{Kurtosis:}      &   9.917 & \\textbf{  Cond. No.          } & 5.51e+15  \\\\\n",
       "\\bottomrule\n",
       "\\end{tabular}\n",
       "%\\caption{OLS Regression Results}\n",
       "\\end{center}\n",
       "\n",
       "Notes: \\newline\n",
       " [1] Standard Errors assume that the covariance matrix of the errors is correctly specified. \\newline\n",
       " [2] The smallest eigenvalue is 2.56e-26. This might indicate that there are \\newline\n",
       " strong multicollinearity problems or that the design matrix is singular."
      ],
      "text/plain": [
       "<class 'statsmodels.iolib.summary.Summary'>\n",
       "\"\"\"\n",
       "                            OLS Regression Results                            \n",
       "==============================================================================\n",
       "Dep. Variable:                 Crimes   R-squared:                       0.751\n",
       "Model:                            OLS   Adj. R-squared:                  0.749\n",
       "Method:                 Least Squares   F-statistic:                     396.1\n",
       "Date:                Sat, 02 Dec 2023   Prob (F-statistic):               0.00\n",
       "Time:                        17:06:23   Log-Likelihood:                -17625.\n",
       "No. Observations:                4240   AIC:                         3.532e+04\n",
       "Df Residuals:                    4207   BIC:                         3.552e+04\n",
       "Df Model:                          32                                         \n",
       "Covariance Type:            nonrobust                                         \n",
       "=======================================================================================\n",
       "                          coef    std err          t      P>|t|      [0.025      0.975]\n",
       "---------------------------------------------------------------------------------------\n",
       "Hour                    1.1630      0.035     33.666      0.000       1.095       1.231\n",
       "DayOfWeek_Friday       14.4110      0.689     20.909      0.000      13.060      15.762\n",
       "DayOfWeek_Monday       11.6335      0.690     16.853      0.000      10.280      12.987\n",
       "DayOfWeek_Saturday     12.8117      0.689     18.588      0.000      11.460      14.163\n",
       "DayOfWeek_Sunday       10.9684      0.688     15.938      0.000       9.619      12.318\n",
       "DayOfWeek_Thursday     11.5339      0.693     16.653      0.000      10.176      12.892\n",
       "DayOfWeek_Tuesday      11.0264      0.691     15.958      0.000       9.672      12.381\n",
       "DayOfWeek_Wednesday    11.6068      0.693     16.751      0.000      10.248      12.965\n",
       "zip_94102              51.2760      1.178     43.530      0.000      48.967      53.585\n",
       "zip_94103              93.9903      1.178     79.791      0.000      91.681      96.300\n",
       "zip_94104             -21.5962      1.264    -17.091      0.000     -24.073     -19.119\n",
       "zip_94105              -9.2373      1.181     -7.819      0.000     -11.554      -6.921\n",
       "zip_94107              11.3593      1.178      9.643      0.000       9.050      13.669\n",
       "zip_94108              -6.9740      1.178     -5.920      0.000      -9.283      -4.665\n",
       "zip_94109              28.9962      1.178     24.616      0.000      26.687      31.306\n",
       "zip_94110              41.2343      1.178     35.005      0.000      38.925      43.544\n",
       "zip_94111             -10.9452      1.192     -9.180      0.000     -13.283      -8.608\n",
       "zip_94112               7.3057      1.178      6.202      0.000       4.996       9.615\n",
       "zip_94114              -1.6407      1.178     -1.393      0.164      -3.950       0.669\n",
       "zip_94115               5.8950      1.178      5.004      0.000       3.586       8.204\n",
       "zip_94116             -12.3176      1.192    -10.332      0.000     -14.655      -9.980\n",
       "zip_94117               3.3117      1.178      2.811      0.005       1.002       5.621\n",
       "zip_94118              -5.5580      1.181     -4.704      0.000      -7.874      -3.242\n",
       "zip_94121              -8.9268      1.192     -7.487      0.000     -11.264      -6.589\n",
       "zip_94122              -1.4383      1.178     -1.221      0.222      -3.748       0.871\n",
       "zip_94123              -7.1699      1.181     -6.069      0.000      -9.486      -4.854\n",
       "zip_94124              17.2819      1.178     14.671      0.000      14.973      19.591\n",
       "zip_94127             -19.4963      1.223    -15.946      0.000     -21.893     -17.099\n",
       "zip_94130             -24.7398      1.433    -17.270      0.000     -27.548     -21.931\n",
       "zip_94131             -14.8146      1.196    -12.388      0.000     -17.159     -12.470\n",
       "zip_94132              -9.3617      1.181     -7.924      0.000     -11.678      -7.045\n",
       "zip_94133               6.7164      1.178      5.702      0.000       4.407       9.026\n",
       "zip_94134              -7.6559      1.181     -6.480      0.000      -9.972      -5.340\n",
       "zip_94158             -21.5029      1.242    -17.315      0.000     -23.938     -19.068\n",
       "==============================================================================\n",
       "Omnibus:                      610.321   Durbin-Watson:                   0.811\n",
       "Prob(Omnibus):                  0.000   Jarque-Bera (JB):             8467.649\n",
       "Skew:                          -0.142   Prob(JB):                         0.00\n",
       "Kurtosis:                       9.917   Cond. No.                     5.51e+15\n",
       "==============================================================================\n",
       "\n",
       "Notes:\n",
       "[1] Standard Errors assume that the covariance matrix of the errors is correctly specified.\n",
       "[2] The smallest eigenvalue is 2.56e-26. This might indicate that there are\n",
       "strong multicollinearity problems or that the design matrix is singular.\n",
       "\"\"\""
      ]
     },
     "execution_count": 11,
     "metadata": {},
     "output_type": "execute_result"
    }
   ],
   "source": [
    "# Create Ordinary Least Squares (OLS) regression model\n",
    "linear_regression = sm.OLS(y_16, X_16)\n",
    "\n",
    "# Fit regression model to data\n",
    "results = linear_regression.fit()\n",
    "\n",
    "# Print summary of regression results\n",
    "results.summary()"
   ]
  },
  {
   "cell_type": "markdown",
   "id": "7838bbfe-d36d-4f47-9b69-3e7429afad5c",
   "metadata": {},
   "source": [
    "## Process 2017 Data <a id='process-2017-data'></a>"
   ]
  },
  {
   "cell_type": "markdown",
   "id": "b521c3be-e729-4fbe-b991-3a70266f5822",
   "metadata": {},
   "source": [
    "### Find zip codes for each incident given the latitude and longitude "
   ]
  },
  {
   "cell_type": "code",
   "execution_count": 12,
   "id": "b61a0d8f-3222-4540-b166-8955841f9717",
   "metadata": {},
   "outputs": [],
   "source": [
    "# Create `geometry` column\n",
    "# Each row is `Point` geometry using `X` and `Y`\n",
    "crime17['geometry'] = gpd.GeoSeries(Point(xy) for xy in zip(crime17['X'], crime17['Y']))\n",
    "\n",
    "# Create GeoDataFrame with coordinate reference system (CRS) as EPSG 4326\n",
    "geo_police_data = gpd.GeoDataFrame(crime17, geometry='geometry', crs='epsg:4326')\n",
    "\n",
    "# Read GeoJSON file\n",
    "sf = gpd.read_file('data/raw/zipcodes_geo.json', geometry='geometry', crs='epsg:4326')\n",
    "\n",
    "# Spatial join DataFrames\n",
    "crime17 = gpd.tools.sjoin(left_df=geo_police_data, right_df=sf, how='left')"
   ]
  },
  {
   "cell_type": "markdown",
   "id": "f8b8c9f0-85b6-41ed-8aee-79ad909c3e73",
   "metadata": {},
   "source": [
    "### Find which zip codes, day of week, and hour have the most crimes"
   ]
  },
  {
   "cell_type": "code",
   "execution_count": 13,
   "id": "12f7066a-e675-438f-b9cf-f69213aae476",
   "metadata": {},
   "outputs": [
    {
     "name": "stderr",
     "output_type": "stream",
     "text": [
      "/var/folders/5m/08f52wbx5cl39bknqwtc21pm0000gn/T/ipykernel_3053/2269334881.py:8: UserWarning: Could not infer format, so each element will be parsed individually, falling back to `dateutil`. To ensure parsing is consistent and as-expected, please specify a format.\n",
      "  day_time_zip_17['Hour'] = pd.to_datetime(day_time_zip_17['Time']).dt.hour\n"
     ]
    }
   ],
   "source": [
    "# Select columns\n",
    "day_time_zip_17 = crime17[['Date', 'DayOfWeek', 'Time', 'zip']]\n",
    "\n",
    "# Convert to DateTime\n",
    "day_time_zip_17['Date'] = pd.to_datetime(day_time_zip_17['Date'])\n",
    "\n",
    "# Extract hour and create new column\n",
    "day_time_zip_17['Hour'] = pd.to_datetime(day_time_zip_17['Time']).dt.hour"
   ]
  },
  {
   "cell_type": "markdown",
   "id": "432788ae-6390-4b1c-a9fb-db52f7c3afbb",
   "metadata": {},
   "source": [
    "### Combine all crimes into hours, days, and zip codes"
   ]
  },
  {
   "cell_type": "code",
   "execution_count": 14,
   "id": "b81ad173-3e0e-4896-8be6-51912abfdb7e",
   "metadata": {},
   "outputs": [
    {
     "data": {
      "text/html": [
       "<div>\n",
       "<style scoped>\n",
       "    .dataframe tbody tr th:only-of-type {\n",
       "        vertical-align: middle;\n",
       "    }\n",
       "\n",
       "    .dataframe tbody tr th {\n",
       "        vertical-align: top;\n",
       "    }\n",
       "\n",
       "    .dataframe thead th {\n",
       "        text-align: right;\n",
       "    }\n",
       "</style>\n",
       "<table border=\"1\" class=\"dataframe\">\n",
       "  <thead>\n",
       "    <tr style=\"text-align: right;\">\n",
       "      <th></th>\n",
       "      <th>DayOfWeek</th>\n",
       "      <th>zip</th>\n",
       "      <th>Hour</th>\n",
       "      <th>Crimes</th>\n",
       "    </tr>\n",
       "  </thead>\n",
       "  <tbody>\n",
       "    <tr>\n",
       "      <th>2465</th>\n",
       "      <td>Thursday</td>\n",
       "      <td>94103</td>\n",
       "      <td>18</td>\n",
       "      <td>227</td>\n",
       "    </tr>\n",
       "    <tr>\n",
       "      <th>2466</th>\n",
       "      <td>Thursday</td>\n",
       "      <td>94103</td>\n",
       "      <td>19</td>\n",
       "      <td>220</td>\n",
       "    </tr>\n",
       "    <tr>\n",
       "      <th>41</th>\n",
       "      <td>Friday</td>\n",
       "      <td>94103</td>\n",
       "      <td>17</td>\n",
       "      <td>213</td>\n",
       "    </tr>\n",
       "    <tr>\n",
       "      <th>3067</th>\n",
       "      <td>Tuesday</td>\n",
       "      <td>94103</td>\n",
       "      <td>18</td>\n",
       "      <td>213</td>\n",
       "    </tr>\n",
       "    <tr>\n",
       "      <th>44</th>\n",
       "      <td>Friday</td>\n",
       "      <td>94103</td>\n",
       "      <td>20</td>\n",
       "      <td>201</td>\n",
       "    </tr>\n",
       "  </tbody>\n",
       "</table>\n",
       "</div>"
      ],
      "text/plain": [
       "     DayOfWeek    zip  Hour  Crimes\n",
       "2465  Thursday  94103    18     227\n",
       "2466  Thursday  94103    19     220\n",
       "41      Friday  94103    17     213\n",
       "3067   Tuesday  94103    18     213\n",
       "44      Friday  94103    20     201"
      ]
     },
     "execution_count": 14,
     "metadata": {},
     "output_type": "execute_result"
    }
   ],
   "source": [
    "# Subset columns\n",
    "day_time_zip_17 = day_time_zip_17[['DayOfWeek', 'zip', 'Hour']]\n",
    "\n",
    "# Create `Crimes` column with values set to 1\n",
    "day_time_zip_17['Crimes'] = 1\n",
    "\n",
    "# Group and sum by categories\n",
    "hour_totals_17 = day_time_zip_17.groupby(by=['DayOfWeek', 'zip', 'Hour'], as_index=False).sum()\n",
    "\n",
    "# Sort and display top rows\n",
    "hour_totals_17.sort_values(by='Crimes', ascending=False).head()"
   ]
  },
  {
   "cell_type": "markdown",
   "id": "fac9dc9c-f8c4-4d47-aaa5-0398c90b9a84",
   "metadata": {},
   "source": [
    "### Create dummy variables"
   ]
  },
  {
   "cell_type": "code",
   "execution_count": 15,
   "id": "d9e90c21-ade6-4a72-b81d-b075ff872f9b",
   "metadata": {},
   "outputs": [],
   "source": [
    "# Subset columns\n",
    "hour_totals_17 = hour_totals_17[['Crimes', 'Hour', 'DayOfWeek', 'zip']]\n",
    "\n",
    "# Convert categorical variables to dummy/indicator variables\n",
    "totals_dummies_17 = pd.get_dummies(data=hour_totals_17, dtype='int')\n",
    "\n",
    "# Separate features (X) and target (y)\n",
    "X_17 = totals_dummies_17.iloc[:, 1:]\n",
    "y_17 = totals_dummies_17.iloc[:, 0]"
   ]
  },
  {
   "cell_type": "markdown",
   "id": "1988726c-136f-472c-b5c4-fcd11626eac8",
   "metadata": {},
   "source": [
    "## Test Models <a id='test-models'></a>"
   ]
  },
  {
   "cell_type": "markdown",
   "id": "687fde2f-60d8-4b81-b137-ef83668020f2",
   "metadata": {},
   "source": [
    "### Linear Regression <a id='model-linear-regression'></a>"
   ]
  },
  {
   "cell_type": "code",
   "execution_count": 16,
   "id": "3aea7c0f-94bd-472e-9d28-22d1753f1442",
   "metadata": {},
   "outputs": [
    {
     "data": {
      "text/plain": [
       "0.7338400634694808"
      ]
     },
     "execution_count": 16,
     "metadata": {},
     "output_type": "execute_result"
    }
   ],
   "source": [
    "# Create linear regression model\n",
    "linear_regression = LinearRegression()\n",
    "\n",
    "# Fit model to training data\n",
    "linear_regression.fit(X_16, y_16)\n",
    "\n",
    "# Evaluate model on new data\n",
    "# Calculate coefficient of determination R^2\n",
    "linear_regression.score(X_17, y_17)"
   ]
  },
  {
   "cell_type": "markdown",
   "id": "5b4e34a0-4b69-4060-a4f7-afaebcee7434",
   "metadata": {},
   "source": [
    "### Random Forest <a id='model-random-forest'></a>"
   ]
  },
  {
   "cell_type": "code",
   "execution_count": 17,
   "id": "dfeec1e0-ff1c-4dcc-b9b4-8dfbb6d381de",
   "metadata": {},
   "outputs": [
    {
     "data": {
      "text/plain": [
       "0.9132203279799544"
      ]
     },
     "execution_count": 17,
     "metadata": {},
     "output_type": "execute_result"
    }
   ],
   "source": [
    "# Create random forest regressor model\n",
    "rf = RandomForestRegressor()\n",
    "\n",
    "# Fit model to training data\n",
    "rf.fit(X_16, y_16)\n",
    "\n",
    "# Evaluate model on new data\n",
    "# Calculate coefficient of determination R^2\n",
    "rf.score(X_17, y_17)"
   ]
  },
  {
   "cell_type": "code",
   "execution_count": 18,
   "id": "27a692ef-54c5-4384-ba70-0e3bd063cbc6",
   "metadata": {},
   "outputs": [
    {
     "data": {
      "text/plain": [
       "[('Hour', 0.24486728503063163),\n",
       " ('DayOfWeek_Friday', 0.007582908222142014),\n",
       " ('DayOfWeek_Monday', 0.004328106863004057),\n",
       " ('DayOfWeek_Saturday', 0.009000666539846821),\n",
       " ('DayOfWeek_Sunday', 0.00968539677114178),\n",
       " ('DayOfWeek_Thursday', 0.005132433902367834),\n",
       " ('DayOfWeek_Tuesday', 0.0044772168136583),\n",
       " ('DayOfWeek_Wednesday', 0.00540920920860822),\n",
       " ('zip_94102', 0.1114783313971839),\n",
       " ('zip_94103', 0.35000716907930557),\n",
       " ('zip_94104', 0.006263194926843793),\n",
       " ('zip_94105', 0.0010462010370524007),\n",
       " ('zip_94107', 0.015087086534639558),\n",
       " ('zip_94108', 0.0007886406378616085),\n",
       " ('zip_94109', 0.045882835008241474),\n",
       " ('zip_94110', 0.08034906955032887),\n",
       " ('zip_94111', 0.000623037900928623),\n",
       " ('zip_94112', 0.011696582973152965),\n",
       " ('zip_94114', 0.002205958576189384),\n",
       " ('zip_94115', 0.010583614787881208),\n",
       " ('zip_94116', 0.0008203301629299346),\n",
       " ('zip_94117', 0.008985417926469471),\n",
       " ('zip_94118', 0.0009691163741302642),\n",
       " ('zip_94121', 0.0005408209348362887),\n",
       " ('zip_94122', 0.0035876501312460565),\n",
       " ('zip_94123', 0.0009302297914686649),\n",
       " ('zip_94124', 0.024423002121061337),\n",
       " ('zip_94127', 0.005697535144732832),\n",
       " ('zip_94130', 0.006596251773047682),\n",
       " ('zip_94131', 0.0019181675986560546),\n",
       " ('zip_94132', 0.0008657585787473985),\n",
       " ('zip_94133', 0.011188206486886341),\n",
       " ('zip_94134', 0.0007139900637043017),\n",
       " ('zip_94158', 0.006268577151073244)]"
      ]
     },
     "execution_count": 18,
     "metadata": {},
     "output_type": "execute_result"
    }
   ],
   "source": [
    "# Create tuples of feature name and feature importance score\n",
    "# Convert to list\n",
    "list(zip(X_16.columns, rf.feature_importances_))"
   ]
  },
  {
   "cell_type": "markdown",
   "id": "32905bc0-6947-4d5b-958f-b553c717ad26",
   "metadata": {},
   "source": [
    "### K-Nearest Neighbors (KNN) <a id='model-knn'></a>"
   ]
  },
  {
   "cell_type": "code",
   "execution_count": 19,
   "id": "5106489f-26e3-4bb3-8bf3-811c735d533a",
   "metadata": {},
   "outputs": [
    {
     "data": {
      "text/plain": [
       "0.7603564502592297"
      ]
     },
     "execution_count": 19,
     "metadata": {},
     "output_type": "execute_result"
    }
   ],
   "source": [
    "# Initialize K-Nearest Neighbors regressor model\n",
    "knn = KNeighborsRegressor()\n",
    "\n",
    "# Fit model to training data\n",
    "knn.fit(X_16, y_16)\n",
    "\n",
    "# Evaluate model on new data\n",
    "# Calculate coefficient of determination R^2\n",
    "knn.score(X_17, y_17)"
   ]
  },
  {
   "cell_type": "markdown",
   "id": "b2aef504-c911-4787-bbe0-5fd3269b69a2",
   "metadata": {},
   "source": [
    "### Support Vector Machine (SVM) <a id='model-svm'></a>"
   ]
  },
  {
   "cell_type": "code",
   "execution_count": 20,
   "id": "822706fc-6cd1-4079-9146-dd6625d2e19c",
   "metadata": {},
   "outputs": [
    {
     "data": {
      "text/plain": [
       "0.075209557340017"
      ]
     },
     "execution_count": 20,
     "metadata": {},
     "output_type": "execute_result"
    }
   ],
   "source": [
    "# Initialize Support Vector Regressor (SVR) model\n",
    "svm = SVR()\n",
    "\n",
    "# Fit model to training data\n",
    "svm.fit(X_16, y_16)\n",
    "\n",
    "# Evaluate model on new data\n",
    "# Calculate coefficient of determination R^2\n",
    "svm.score(X_17, y_17)"
   ]
  },
  {
   "cell_type": "markdown",
   "id": "f3605818-91cb-4b47-94e7-0ad0b172b93d",
   "metadata": {},
   "source": [
    "### XGBoost <a id='model-xgboost'></a>"
   ]
  },
  {
   "cell_type": "code",
   "execution_count": 21,
   "id": "897451a8-c8bb-4a9f-a44d-6d3c0eb8a232",
   "metadata": {},
   "outputs": [
    {
     "data": {
      "text/plain": [
       "0.9196969219407144"
      ]
     },
     "execution_count": 21,
     "metadata": {},
     "output_type": "execute_result"
    }
   ],
   "source": [
    "# Initialize eXtreme Gradient Boosting (XGB) regressor model\n",
    "xgb = XGBRegressor()\n",
    "\n",
    "# Fit model to training data\n",
    "xgb.fit(X_16, y_16)\n",
    "\n",
    "# Evaluate model on new data\n",
    "# Calculate coefficient of determination R^2\n",
    "xgb.score(X_17, y_17)"
   ]
  },
  {
   "cell_type": "markdown",
   "id": "53f73d7d-0500-4883-b2f0-768c0684e2f4",
   "metadata": {},
   "source": [
    "### Multi-layer Perceptron (MLP) Regressor <a id='model-mlp'></a>"
   ]
  },
  {
   "cell_type": "code",
   "execution_count": 22,
   "id": "8f3fd259-1ce9-4ccd-8dbb-9c8e10f8d18c",
   "metadata": {},
   "outputs": [
    {
     "data": {
      "text/plain": [
       "0.9151123234055847"
      ]
     },
     "execution_count": 22,
     "metadata": {},
     "output_type": "execute_result"
    }
   ],
   "source": [
    "# Initialize Multi-layer Perceptron (MLP) regressor model\n",
    "mlp = MLPRegressor(hidden_layer_sizes=(100, 100, 100, 100), random_state=444)\n",
    "\n",
    "# Fit model to training data\n",
    "mlp.fit(X_16, y_16)\n",
    "\n",
    "# Evaluate model on new data\n",
    "# Calculate coefficient of determination R^2\n",
    "mlp.score(X_17, y_17)"
   ]
  },
  {
   "cell_type": "markdown",
   "id": "e49ef14a-4f42-4522-8787-ed7d6b36a095",
   "metadata": {},
   "source": [
    "## Combine predictions and results into a DataFrame"
   ]
  },
  {
   "cell_type": "code",
   "execution_count": 23,
   "id": "1f38e55d-306e-4ff5-b782-d7c6a11395c5",
   "metadata": {},
   "outputs": [],
   "source": [
    "# Make predictions on input data using trained MLP regressor\n",
    "mlp_predicts = mlp.predict(X_16)\n",
    "\n",
    "# Make predictions on input data using trained XGBoost regressor\n",
    "xgb_predicts = xgb.predict(X_16)\n",
    "\n",
    "# Create new column to store MLP predictions\n",
    "hour_totals_17['Predicted_mlp'] = pd.Series(mlp_predicts)\n",
    "\n",
    "# Create new column to store XGB predictions\n",
    "hour_totals_17['Predicted_xgb'] = pd.Series(xgb_predicts)"
   ]
  },
  {
   "cell_type": "markdown",
   "id": "a3774b64-dc16-4669-80ce-d25db9a54016",
   "metadata": {},
   "source": [
    "### Divide by 365 to get the number of crime incidents per day"
   ]
  },
  {
   "cell_type": "code",
   "execution_count": 24,
   "id": "dfe33281-cc00-4412-8fea-ee66edb90022",
   "metadata": {},
   "outputs": [],
   "source": [
    "# Divide selected columns by 365 to convert or normalize values to daily averages\n",
    "hour_totals_17['Crimes'] = hour_totals_17['Crimes'] / 365\n",
    "hour_totals_17['Predicted_mlp'] = hour_totals_17['Predicted_mlp'] / 365\n",
    "hour_totals_17['Predicted_xgb'] = hour_totals_17['Predicted_xgb'] / 365\n",
    "\n",
    "# Round to two decimal places\n",
    "hour_totals_17 = hour_totals_17.round(decimals=2)\n",
    "\n",
    "# Export to JSON file\n",
    "hour_totals_17.to_json('data/processed/crime_predictions.json', orient='records', double_precision=2)"
   ]
  },
  {
   "cell_type": "markdown",
   "id": "74d2bc7d-d4ef-4355-92f2-063d61989516",
   "metadata": {},
   "source": [
    "## Choropleth Map <a id='choropleth-map'></a>"
   ]
  },
  {
   "cell_type": "code",
   "execution_count": 25,
   "id": "caa61252-5629-4e91-a2ac-cc335fe30f53",
   "metadata": {},
   "outputs": [
    {
     "data": {
      "text/plain": [
       "<Axes: >"
      ]
     },
     "execution_count": 25,
     "metadata": {},
     "output_type": "execute_result"
    },
    {
     "data": {
      "image/png": "[encoded data removed]",
      "text/plain": [
       "<Figure size 1300x1000 with 1 Axes>"
      ]
     },
     "metadata": {},
     "output_type": "display_data"
    }
   ],
   "source": [
    "# Merge GeoDataFrames\n",
    "choropleth_data = hour_totals_17.merge(right=sf)\n",
    "\n",
    "# Convert merged GeoDataFrame with geometry and CRS\n",
    "choropleth_data = gpd.GeoDataFrame(choropleth_data, geometry='geometry', crs='epsg:4326')\n",
    "\n",
    "# Plot choropleth map\n",
    "choropleth_data.plot(column='Crimes', cmap='OrRd', figsize=(13, 10))"
   ]
  },
  {
   "cell_type": "markdown",
   "id": "d97185a2-3235-4a4f-835b-00bb5bff1ee5",
   "metadata": {},
   "source": [
    "This notebook is inspired by Orlando Torres' article, [Data Science gone wrong: Predictive Policing is a WMD](https://towardsdatascience.com/the-perils-of-predictive-policing-11928a9f1d60)."
   ]
  },
  {
   "cell_type": "code",
   "execution_count": null,
   "id": "250ab394-e41f-4253-badf-6ab9f2b75bf7",
   "metadata": {},
   "outputs": [],
   "source": []
  }
 ],
 "metadata": {
  "kernelspec": {
   "display_name": "Python 3 (ipykernel)",
   "language": "python",
   "name": "python3"
  },
  "language_info": {
   "codemirror_mode": {
    "name": "ipython",
    "version": 3
   },
   "file_extension": ".py",
   "mimetype": "text/x-python",
   "name": "python",
   "nbconvert_exporter": "python",
   "pygments_lexer": "ipython3",
   "version": "3.11.6"
  }
 },
 "nbformat": 4,
 "nbformat_minor": 5
}
